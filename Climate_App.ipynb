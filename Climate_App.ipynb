{
 "cells": [
  {
   "cell_type": "code",
   "execution_count": 1,
   "metadata": {},
   "outputs": [],
   "source": [
    "#Import Required Dependencies\n",
    "\n",
    "from flask import Flask, jsonify\n",
    "from sqlalchemy import create_engine, func\n",
    "from sqlalchemy.ext.automap import automap_base\n",
    "from sqlalchemy.orm import Session\n"
   ]
  },
  {
   "cell_type": "code",
   "execution_count": 2,
   "metadata": {},
   "outputs": [],
   "source": [
    "# Initialize Flask app\n",
    "app = Flask(__name__)"
   ]
  },
  {
   "cell_type": "code",
   "execution_count": 3,
   "metadata": {},
   "outputs": [
    {
     "name": "stdout",
     "output_type": "stream",
     "text": [
      "True\n"
     ]
    }
   ],
   "source": [
    "import os\n",
    "\n",
    "file_path = \"/Users/jeff.gary/Desktop/Starter_Code 2/Resources/hawaii.sqlite\"  # Replace with the actual path\n",
    "print(os.path.exists(file_path))\n",
    "\n",
    "\n",
    "\n"
   ]
  },
  {
   "cell_type": "code",
   "execution_count": 4,
   "metadata": {},
   "outputs": [
    {
     "name": "stdout",
     "output_type": "stream",
     "text": [
      "True\n",
      "Database connection successful!\n"
     ]
    }
   ],
   "source": [
    "import os\n",
    "from sqlalchemy import create_engine\n",
    "from sqlalchemy.ext.automap import automap_base\n",
    "from sqlalchemy.orm import Session\n",
    "\n",
    "file_path = \"/Users/jeff.gary/Desktop/Starter_Code 2/Resources/hawaii.sqlite\"  # Replace with the actual path\n",
    "print(os.path.exists(file_path))\n",
    "\n",
    "\n",
    "if os.path.exists(file_path):\n",
    "    # Attempt to create engine\n",
    "    try:\n",
    "        engine = create_engine(f\"sqlite:///{file_path}\")\n",
    "        Base = automap_base()\n",
    "        Base.prepare(engine)\n",
    "        Measurement = Base.classes.measurement\n",
    "        Station = Base.classes.station\n",
    "        session = Session(engine)\n",
    "        print(\"Database connection successful!\")\n",
    "    except Exception as e:\n",
    "        print(f\"Error connecting to database: {e}\")\n",
    "else:\n",
    "    print(\"File not found. Please verify the path.\")\n"
   ]
  },
  {
   "cell_type": "code",
   "execution_count": 5,
   "metadata": {},
   "outputs": [],
   "source": [
    "# Define API Routes\n",
    "\n",
    "@app.route(\"/\")\n",
    "def welcome():\n",
    "    \"\"\"List all available API routes.\"\"\"\n",
    "    return (\n",
    "        f\"Welcome to the Climate App API!<br/><br/>\"\n",
    "        f\"Available Routes:<br/>\"\n",
    "        f\"/api/v1.0/precipitation<br/>\"\n",
    "        f\"/api/v1.0/stations<br/>\"\n",
    "        f\"/api/v1.0/tobs<br/>\"\n",
    "        f\"/api/v1.0/<start><br/>\"\n",
    "        f\"/api/v1.0/<start>/<end><br/>\"\n",
    "    )\n"
   ]
  },
  {
   "cell_type": "code",
   "execution_count": 6,
   "metadata": {},
   "outputs": [],
   "source": [
    "# Retrieve last 12 months of precipitation data\n",
    "\n",
    "@app.route(\"/api/v1.0/precipitation\")\n",
    "def precipitation():\n",
    "    \"\"\"Return the precipitation data for the last 12 months.\"\"\"\n",
    "    # Find the most recent date in the dataset\n",
    "    latest_date = session.query(Measurement.date).order_by(Measurement.date.desc()).first()[0]\n",
    "    one_year_ago = dt.datetime.strptime(latest_date, \"%Y-%m-%d\") - dt.timedelta(days=365)\n",
    "\n",
    "    # Query precipitation data for the last year\n",
    "    precipitation_data = session.query(Measurement.date, Measurement.prcp).\\\n",
    "        filter(Measurement.date >= one_year_ago).all()\n",
    "\n",
    "    # Convert the query results to a dictionary\n",
    "    precipitation_dict = {date: prcp for date, prcp in precipitation_data}\n",
    "    return jsonify(precipitation_dict)\n"
   ]
  },
  {
   "cell_type": "code",
   "execution_count": 7,
   "metadata": {},
   "outputs": [],
   "source": [
    "# Return a JSON list of all stations\n",
    "\n",
    "@app.route(\"/api/v1.0/stations\")\n",
    "def stations():\n",
    "    \"\"\"Return a list of all stations.\"\"\"\n",
    "    results = session.query(Station.name).all()\n",
    "    stations = [station[0] for station in results]\n",
    "    return jsonify(stations)\n"
   ]
  },
  {
   "cell_type": "code",
   "execution_count": 8,
   "metadata": {},
   "outputs": [],
   "source": [
    "# Return temperature observations for the most active station for the last 12 months\n",
    "\n",
    "@app.route(\"/api/v1.0/tobs\")\n",
    "def tobs():\n",
    "    \"\"\"Return temperature observations for the most active station for the last year.\"\"\"\n",
    "    # Find the most active station\n",
    "    most_active_station = session.query(Measurement.station).\\\n",
    "        group_by(Measurement.station).\\\n",
    "        order_by(func.count(Measurement.station).desc()).first()[0]\n",
    "\n",
    "    # Find the most recent date and calculate the date one year ago\n",
    "    latest_date = session.query(Measurement.date).order_by(Measurement.date.desc()).first()[0]\n",
    "    one_year_ago = dt.datetime.strptime(latest_date, \"%Y-%m-%d\") - dt.timedelta(days=365)\n",
    "\n",
    "    # Query temperature observations for the last year for the most active station\n",
    "    results = session.query(Measurement.date, Measurement.tobs).\\\n",
    "        filter(Measurement.station == most_active_station).\\\n",
    "        filter(Measurement.date >= one_year_ago).all()\n",
    "\n",
    "    # Convert the results to a list of dictionaries\n",
    "    temperature_list = [{\"date\": date, \"temperature\": tobs} for date, tobs in results]\n",
    "    return jsonify(temperature_list)\n"
   ]
  },
  {
   "cell_type": "code",
   "execution_count": 9,
   "metadata": {},
   "outputs": [],
   "source": [
    "# Return min, avg, and max temperatures for a specified start date\n",
    "\n",
    "@app.route(\"/api/v1.0/<start>\")\n",
    "def start_date(start):\n",
    "    \"\"\"Return temperature stats (min, avg, max) for dates >= start date.\"\"\"\n",
    "    sel = [func.min(Measurement.tobs), func.avg(Measurement.tobs), func.max(Measurement.tobs)]\n",
    "    results = session.query(*sel).filter(Measurement.date >= start).all()\n",
    "\n",
    "    # Convert the results into a dictionary\n",
    "    temperature_stats = {\n",
    "        \"TMIN\": results[0][0],\n",
    "        \"TAVG\": results[0][1],\n",
    "        \"TMAX\": results[0][2]\n",
    "    }\n",
    "    return jsonify(temperature_stats)\n"
   ]
  },
  {
   "cell_type": "code",
   "execution_count": 10,
   "metadata": {},
   "outputs": [],
   "source": [
    "# Return min, avg, and max temperatures for a specified start and end date\n",
    "\n",
    "@app.route(\"/api/v1.0/<start>/<end>\")\n",
    "def start_end_date(start, end):\n",
    "    \"\"\"Return temperature stats (min, avg, max) for dates between start and end.\"\"\"\n",
    "    sel = [func.min(Measurement.tobs), func.avg(Measurement.tobs), func.max(Measurement.tobs)]\n",
    "    results = session.query(*sel).\\\n",
    "        filter(Measurement.date >= start).\\\n",
    "        filter(Measurement.date <= end).all()\n",
    "\n",
    "    # Convert the results into a dictionary\n",
    "    temperature_stats = {\n",
    "        \"TMIN\": results[0][0],\n",
    "        \"TAVG\": results[0][1],\n",
    "        \"TMAX\": results[0][2]\n",
    "    }\n",
    "    return jsonify(temperature_stats)\n",
    "\n"
   ]
  },
  {
   "cell_type": "code",
   "execution_count": 11,
   "metadata": {},
   "outputs": [
    {
     "name": "stdout",
     "output_type": "stream",
     "text": [
      " * Serving Flask app '__main__'\n",
      " * Debug mode: on\n"
     ]
    },
    {
     "name": "stderr",
     "output_type": "stream",
     "text": [
      "\u001b[31m\u001b[1mWARNING: This is a development server. Do not use it in a production deployment. Use a production WSGI server instead.\u001b[0m\n",
      " * Running on http://127.0.0.1:5002\n",
      "\u001b[33mPress CTRL+C to quit\u001b[0m\n",
      " * Restarting with stat\n",
      "Traceback (most recent call last):\n",
      "  File \"<frozen runpy>\", line 198, in _run_module_as_main\n",
      "  File \"<frozen runpy>\", line 88, in _run_code\n",
      "  File \"/Users/jeff.gary/Library/Python/3.13/lib/python/site-packages/ipykernel_launcher.py\", line 18, in <module>\n",
      "    app.launch_new_instance()\n",
      "    ~~~~~~~~~~~~~~~~~~~~~~~^^\n",
      "  File \"/Users/jeff.gary/Library/Python/3.13/lib/python/site-packages/traitlets/config/application.py\", line 1074, in launch_instance\n",
      "    app.initialize(argv)\n",
      "    ~~~~~~~~~~~~~~^^^^^^\n",
      "  File \"/Users/jeff.gary/Library/Python/3.13/lib/python/site-packages/traitlets/config/application.py\", line 118, in inner\n",
      "    return method(app, *args, **kwargs)\n",
      "  File \"/Users/jeff.gary/Library/Python/3.13/lib/python/site-packages/ipykernel/kernelapp.py\", line 692, in initialize\n",
      "    self.init_sockets()\n",
      "    ~~~~~~~~~~~~~~~~~^^\n",
      "  File \"/Users/jeff.gary/Library/Python/3.13/lib/python/site-packages/ipykernel/kernelapp.py\", line 331, in init_sockets\n",
      "    self.shell_port = self._bind_socket(self.shell_socket, self.shell_port)\n",
      "                      ~~~~~~~~~~~~~~~~~^^^^^^^^^^^^^^^^^^^^^^^^^^^^^^^^^^^^\n",
      "  File \"/Users/jeff.gary/Library/Python/3.13/lib/python/site-packages/ipykernel/kernelapp.py\", line 253, in _bind_socket\n",
      "    return self._try_bind_socket(s, port)\n",
      "           ~~~~~~~~~~~~~~~~~~~~~^^^^^^^^^\n",
      "  File \"/Users/jeff.gary/Library/Python/3.13/lib/python/site-packages/ipykernel/kernelapp.py\", line 229, in _try_bind_socket\n",
      "    s.bind(\"tcp://%s:%i\" % (self.ip, port))\n",
      "    ~~~~~~^^^^^^^^^^^^^^^^^^^^^^^^^^^^^^^^^\n",
      "  File \"/Users/jeff.gary/Library/Python/3.13/lib/python/site-packages/zmq/sugar/socket.py\", line 311, in bind\n",
      "    super().bind(addr)\n",
      "    ~~~~~~~~~~~~^^^^^^\n",
      "  File \"_zmq.py\", line 917, in zmq.backend.cython._zmq.Socket.bind\n",
      "  File \"_zmq.py\", line 179, in zmq.backend.cython._zmq._check_rc\n",
      "zmq.error.ZMQError: Address already in use (addr='tcp://127.0.0.1:9007')\n"
     ]
    },
    {
     "ename": "SystemExit",
     "evalue": "1",
     "output_type": "error",
     "traceback": [
      "An exception has occurred, use %tb to see the full traceback.\n",
      "\u001b[0;31mSystemExit\u001b[0m\u001b[0;31m:\u001b[0m 1\n"
     ]
    },
    {
     "name": "stderr",
     "output_type": "stream",
     "text": [
      "/Users/jeff.gary/Library/Python/3.13/lib/python/site-packages/IPython/core/interactiveshell.py:3585: UserWarning: To exit: use 'exit', 'quit', or Ctrl-D.\n",
      "  warn(\"To exit: use 'exit', 'quit', or Ctrl-D.\", stacklevel=1)\n"
     ]
    }
   ],
   "source": [
    "# Run app to test routes\n",
    "\n",
    "if __name__ == \"__main__\":\n",
    "    app.run(debug=True, port=5002)  # Use a different port, e.g., 5002\n",
    "\n"
   ]
  }
 ],
 "metadata": {
  "kernelspec": {
   "display_name": "Python 3",
   "language": "python",
   "name": "python3"
  },
  "language_info": {
   "codemirror_mode": {
    "name": "ipython",
    "version": 3
   },
   "file_extension": ".py",
   "mimetype": "text/x-python",
   "name": "python",
   "nbconvert_exporter": "python",
   "pygments_lexer": "ipython3",
   "version": "3.13.0"
  }
 },
 "nbformat": 4,
 "nbformat_minor": 2
}
